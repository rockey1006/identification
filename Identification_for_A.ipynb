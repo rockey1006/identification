{
  "nbformat": 4,
  "nbformat_minor": 0,
  "metadata": {
    "colab": {
      "name": "Untitled44.ipynb",
      "provenance": [],
      "authorship_tag": "ABX9TyM+49qikZ2suyuEkFWI2wsb",
      "include_colab_link": true
    },
    "kernelspec": {
      "name": "python3",
      "display_name": "Python 3"
    },
    "accelerator": "GPU"
  },
  "cells": [
    {
      "cell_type": "markdown",
      "metadata": {
        "id": "view-in-github",
        "colab_type": "text"
      },
      "source": [
        "<a href=\"https://colab.research.google.com/github/rockey1006/identification/blob/main/Identification_for_A.ipynb\" target=\"_parent\"><img src=\"https://colab.research.google.com/assets/colab-badge.svg\" alt=\"Open In Colab\"/></a>"
      ]
    },
    {
      "cell_type": "code",
      "metadata": {
        "id": "ZQg2e14XJuxU"
      },
      "source": [
        "!pip install deepface"
      ],
      "execution_count": null,
      "outputs": []
    },
    {
      "cell_type": "code",
      "metadata": {
        "colab": {
          "base_uri": "https://localhost:8080/"
        },
        "id": "WYvBRyJkJ12A",
        "outputId": "40d9e36f-ef05-4533-ce4d-6befa07d7912"
      },
      "source": [
        "from deepface import DeepFace"
      ],
      "execution_count": null,
      "outputs": [
        {
          "output_type": "stream",
          "text": [
            "Directory  /root /.deepface created\n",
            "Directory  /root /.deepface/weights created\n"
          ],
          "name": "stdout"
        }
      ]
    },
    {
      "cell_type": "code",
      "metadata": {
        "colab": {
          "base_uri": "https://localhost:8080/"
        },
        "id": "pSis551NKJfH",
        "outputId": "b437b921-3e13-4ede-f669-9be0001a7e5f"
      },
      "source": [
        "from google.colab import drive\n",
        "drive.mount('/content/drive')"
      ],
      "execution_count": null,
      "outputs": [
        {
          "output_type": "stream",
          "text": [
            "Mounted at /content/drive\n"
          ],
          "name": "stdout"
        }
      ]
    },
    {
      "cell_type": "code",
      "metadata": {
        "id": "4BszvhyvKRD3"
      },
      "source": [
        "from zipfile import ZipFile\n",
        "with ZipFile('/content/drive/My Drive/facenet_weights.zip', 'r') as zipObj:\n",
        "   # Extract all the contents of zip file in different directory\n",
        "   zipObj.extractall('/root/.deepface/weights/')"
      ],
      "execution_count": null,
      "outputs": []
    },
    {
      "cell_type": "code",
      "metadata": {
        "colab": {
          "base_uri": "https://localhost:8080/"
        },
        "id": "6FVyjq-EKVc4",
        "outputId": "4f447a8a-f450-4f10-eada-72871f4d824d"
      },
      "source": [
        "from deepface import DeepFace\n",
        "result  = DeepFace.verify(\"/content/test/Adam_Sandler_0004_0.png\", \"/content/test/Adam_Sandler_0003_0.png\",model_name=\"Facenet\",distance_metric='euclidean_l2')\n",
        "\n",
        "print(\"Is verified by facenet: \", result[\"verified\"])\n",
        "print(\"euclidean_l2 distance: \",result[\"distance\"])\n",
        "## for Eucledian < 1.1 is same person"
      ],
      "execution_count": null,
      "outputs": [
        {
          "output_type": "stream",
          "text": [
            "Using Facenet model backend euclidean_l2 distance.\n",
            "WARNING:tensorflow:6 out of the last 11 calls to <function Model.make_predict_function.<locals>.predict_function at 0x7f2f0594a510> triggered tf.function retracing. Tracing is expensive and the excessive number of tracings could be due to (1) creating @tf.function repeatedly in a loop, (2) passing tensors with different shapes, (3) passing Python objects instead of tensors. For (1), please define your @tf.function outside of the loop. For (2), @tf.function has experimental_relax_shapes=True option that relaxes argument shapes that can avoid unnecessary retracing. For (3), please refer to https://www.tensorflow.org/tutorials/customization/performance#python_or_tensor_args and https://www.tensorflow.org/api_docs/python/tf/function for  more details.\n",
            "Is verified by facenet:  False\n",
            "euclidean_l2 distance:  1.037149\n"
          ],
          "name": "stdout"
        }
      ]
    },
    {
      "cell_type": "code",
      "metadata": {
        "id": "wiyL1Cl2OUSA"
      },
      "source": [
        "\n",
        "from zipfile import ZipFile\n",
        "with ZipFile('/content/drive/MyDrive/new_A1.zip', 'r') as zipObj:\n",
        "   # Extract all the contents of zip file in different directory\n",
        "   zipObj.extractall('new_A1')"
      ],
      "execution_count": null,
      "outputs": []
    },
    {
      "cell_type": "code",
      "metadata": {
        "id": "QN8qA_cuOtAc"
      },
      "source": [
        "from zipfile import ZipFile\n",
        "with ZipFile('/content/drive/MyDrive/new_A2.zip', 'r') as zipObj:\n",
        "   # Extract all the contents of zip file in different directory\n",
        "   zipObj.extractall('new_A2')"
      ],
      "execution_count": null,
      "outputs": []
    },
    {
      "cell_type": "code",
      "metadata": {
        "colab": {
          "base_uri": "https://localhost:8080/"
        },
        "id": "6mET3ZQqO0mY",
        "outputId": "c95ffda5-4f68-4a46-8c21-05cd30372b7a"
      },
      "source": [
        "!git clone https://github.com/rockey1006/classifier_1110.git\n"
      ],
      "execution_count": null,
      "outputs": [
        {
          "output_type": "stream",
          "text": [
            "Cloning into 'classifier_1110'...\n",
            "remote: Enumerating objects: 15, done.\u001b[K\n",
            "remote: Counting objects: 100% (15/15), done.\u001b[K\n",
            "remote: Compressing objects: 100% (14/14), done.\u001b[K\n",
            "remote: Total 15 (delta 0), reused 0 (delta 0), pack-reused 0\u001b[K\n",
            "Unpacking objects: 100% (15/15), done.\n"
          ],
          "name": "stdout"
        }
      ]
    },
    {
      "cell_type": "code",
      "metadata": {
        "id": "Gen5svs4PkCw"
      },
      "source": [
        ""
      ],
      "execution_count": null,
      "outputs": []
    },
    {
      "cell_type": "code",
      "metadata": {
        "id": "HWBqsBowO538"
      },
      "source": [
        "\n",
        "from zipfile import ZipFile\n",
        "with ZipFile('/content/drive/My Drive/vgg_face_weights.zip', 'r') as zipObj:\n",
        "   # Extract all the contents of zip file in different directory\n",
        "   zipObj.extractall('vgg_face_weights/')"
      ],
      "execution_count": null,
      "outputs": []
    },
    {
      "cell_type": "code",
      "metadata": {
        "colab": {
          "base_uri": "https://localhost:8080/"
        },
        "id": "PGwvpAQHPmUz",
        "outputId": "bd369e36-3d67-4974-cef7-99dc69f3ab27"
      },
      "source": [
        "!python /content/classifier_1110/Face2020.py\n"
      ],
      "execution_count": null,
      "outputs": [
        {
          "output_type": "stream",
          "text": [
            "model loaded-------------\n",
            "Traceback (most recent call last):\n",
            "  File \"/content/classifier_1110/Face2020.py\", line 46, in <module>\n",
            "    sys.exit(int(main() or 0))\n",
            "  File \"/content/classifier_1110/Face2020.py\", line 32, in main\n",
            "    x_train, y_train, x_test, y_test, person_rep = pd.prepare_data('',vgg_face)\n",
            "  File \"/content/classifier_1110/PrepareDataset.py\", line 21, in prepare_data\n",
            "    img=load_img(traindir + person+'/'+image_name,target_size=(224,224))\n",
            "  File \"/usr/local/lib/python3.6/dist-packages/tensorflow/python/keras/preprocessing/image.py\", line 301, in load_img\n",
            "    target_size=target_size, interpolation=interpolation)\n",
            "  File \"/usr/local/lib/python3.6/dist-packages/keras_preprocessing/image/utils.py\", line 113, in load_img\n",
            "    with open(path, 'rb') as f:\n",
            "IsADirectoryError: [Errno 21] Is a directory: '/content/new_A1/new_A1/Adam_Sandler/.ipynb_checkpoints'\n"
          ],
          "name": "stdout"
        }
      ]
    },
    {
      "cell_type": "code",
      "metadata": {
        "id": "CaJsXdpnQge8"
      },
      "source": [
        "\n",
        "import numpy as np\n",
        "import os\n",
        " \n",
        "img_path='/content/new_A1/new_A1'\n",
        " \n",
        "img_list=sorted(os.listdir(img_path))\t#\n",
        "\n",
        "img_nums=len(img_list)"
      ],
      "execution_count": null,
      "outputs": []
    },
    {
      "cell_type": "code",
      "metadata": {
        "colab": {
          "base_uri": "https://localhost:8080/"
        },
        "id": "ItzOOOSrQphR",
        "outputId": "cb37da20-f695-4c2d-a4c9-8b64b9ba6979"
      },
      "source": [
        "c = 0\n",
        "for i in range(img_nums):\n",
        "    c = c+1\n",
        " \n",
        "\n",
        "    if c==37 or c==43 or c==59 or c==88 or c==97 or c==119 or c==128 or c==134 or c==149 or c==150 or c==209 or c==211 or c==225 or c==240 or c==244 or c==300 or c==322 or c==323 or c==364 or c==389 or c==402 or c==425:\n",
        "      print(img_list[i])"
      ],
      "execution_count": null,
      "outputs": [
        {
          "output_type": "stream",
          "text": [
            "Adam_Sandler\n",
            "Adolfo_Rodriguez_Saa\n",
            "Ahmad_Masood\n",
            "Al_Sharpton\n",
            "Alan_Mulally\n",
            "Alec_Baldwin\n",
            "Alejandro_Toledo\n",
            "Alex_Barros\n",
            "Alexander_Downer\n",
            "Alexander_Losyukov\n",
            "Alvaro_Noboa\n",
            "Alvaro_Uribe\n",
            "Amer_al-Saadi\n",
            "Ana_Palacio\n",
            "Anastasia_Myskina\n",
            "Angela_Bassett\n",
            "Anna_Kournikova\n",
            "Anna_Nicole_Smith\n",
            "Anwar_Ibrahim\n",
            "Aron_Ralston\n",
            "Ashanti\n",
            "Augustin_Calleri\n"
          ],
          "name": "stdout"
        }
      ]
    },
    {
      "cell_type": "code",
      "metadata": {
        "id": "Wzzz9rNnZY1i"
      },
      "source": [
        "from zipfile import ZipFile\n",
        "with ZipFile('/content/drive/MyDrive/new_A1_1118.zip', 'r') as zipObj:\n",
        "   # Extract all the contents of zip file in different directory\n",
        "   zipObj.extractall('new_A1_1118')"
      ],
      "execution_count": null,
      "outputs": []
    },
    {
      "cell_type": "code",
      "metadata": {
        "id": "mxFrWL0JZyDu"
      },
      "source": [
        "from zipfile import ZipFile\n",
        "with ZipFile('/content/drive/MyDrive/new_A21118.zip', 'r') as zipObj:\n",
        "   # Extract all the contents of zip file in different directory\n",
        "   zipObj.extractall('new_A2_1118')"
      ],
      "execution_count": null,
      "outputs": []
    },
    {
      "cell_type": "code",
      "metadata": {
        "id": "ZWOdYzyeZ4yT"
      },
      "source": [
        "!python /content/classifier_1110/Face2020.py"
      ],
      "execution_count": null,
      "outputs": []
    },
    {
      "cell_type": "code",
      "metadata": {
        "id": "0nnb8wudaii5"
      },
      "source": [
        "\n",
        "import numpy as np\n",
        "import os\n",
        " \n",
        "img_path='/content/new_A1_1118/new_A1'\n",
        " \n",
        "img_list=sorted(os.listdir(img_path))\t#\n",
        "\n",
        "img_nums=len(img_list)"
      ],
      "execution_count": null,
      "outputs": []
    },
    {
      "cell_type": "code",
      "metadata": {
        "colab": {
          "base_uri": "https://localhost:8080/"
        },
        "id": "MhAl8AWXewdZ",
        "outputId": "1c0e4cb0-3ee0-4bd0-cea3-61864351e64c"
      },
      "source": [
        "c = 0\n",
        "for i in range(img_nums):\n",
        "    c = c+1\n",
        " \n",
        "\n",
        "    if c == 6 or c==26 or c==37 or c==43 or c==59 or c==79 or c==88 or c==97 or c==119 or c==122 or c==128 or c==134 or c==144 or c==149 or c==150 or c==159 or c==183 or c==217 or c==225 or c==240 or c==244 or c==247 or c==292 or c==300 or c==305 or c==322 or c==323 or c==364 or c==376 or c==388 or c==389 or c==393 or c==402 or c==418or c==425 or c==427:\n",
        "      print(img_list[i])\n",
        "            \n",
        "            \n"
      ],
      "execution_count": null,
      "outputs": [
        {
          "output_type": "stream",
          "text": [
            "Aaron_Peirsol\n",
            "Abel_Pacheco\n",
            "Adam_Sandler\n",
            "Adolfo_Rodriguez_Saa\n",
            "Ahmad_Masood\n",
            "Akbar_Hashemi_Rafsanjani\n",
            "Al_Sharpton\n",
            "Alan_Mulally\n",
            "Alec_Baldwin\n",
            "Alejandro_Avila\n",
            "Alejandro_Toledo\n",
            "Alex_Barros\n",
            "Alex_Sink\n",
            "Alexander_Downer\n",
            "Alexander_Losyukov\n",
            "Alexandra_Vodjanikova\n",
            "Ali_Naimi\n",
            "Amanda_Coetzer\n",
            "Amer_al-Saadi\n",
            "Ana_Palacio\n",
            "Anastasia_Myskina\n",
            "Anders_Fogh_Rasmussen\n",
            "Andy_Roddick\n",
            "Angela_Bassett\n",
            "Angelina_Jolie\n",
            "Anna_Kournikova\n",
            "Anna_Nicole_Smith\n",
            "Anwar_Ibrahim\n",
            "Arlen_Specter\n",
            "Arnoldo_Aleman\n",
            "Aron_Ralston\n",
            "Art_Howe\n",
            "Ashanti\n",
            "Atal_Bihari_Vajpayee\n",
            "Augustin_Calleri\n",
            "Augusto_Roa_Bastos\n"
          ],
          "name": "stdout"
        }
      ]
    }
  ]
}