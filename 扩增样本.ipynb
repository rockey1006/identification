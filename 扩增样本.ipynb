{
  "nbformat": 4,
  "nbformat_minor": 0,
  "metadata": {
    "colab": {
      "name": "扩增样本.ipynb",
      "provenance": [],
      "machine_shape": "hm",
      "authorship_tag": "ABX9TyO2yw/2ZgFd4SE9JWTKN+F1",
      "include_colab_link": true
    },
    "kernelspec": {
      "name": "python3",
      "display_name": "Python 3"
    },
    "accelerator": "GPU"
  },
  "cells": [
    {
      "cell_type": "markdown",
      "metadata": {
        "id": "view-in-github",
        "colab_type": "text"
      },
      "source": [
        "<a href=\"https://colab.research.google.com/github/rockey1006/identification/blob/main/%E6%89%A9%E5%A2%9E%E6%A0%B7%E6%9C%AC.ipynb\" target=\"_parent\"><img src=\"https://colab.research.google.com/assets/colab-badge.svg\" alt=\"Open In Colab\"/></a>"
      ]
    },
    {
      "cell_type": "code",
      "metadata": {
        "id": "YwQ0Bmu9lswt",
        "colab": {
          "base_uri": "https://localhost:8080/"
        },
        "outputId": "0abd12f0-68af-4bdd-8110-86df47f80733"
      },
      "source": [
        "\r\n",
        "from google.colab import drive\r\n",
        "drive.mount('/content/drive')"
      ],
      "execution_count": 1,
      "outputs": [
        {
          "output_type": "stream",
          "text": [
            "Mounted at /content/drive\n"
          ],
          "name": "stdout"
        }
      ]
    },
    {
      "cell_type": "code",
      "metadata": {
        "id": "5Z1T7vc_mwmH"
      },
      "source": [
        "from zipfile import ZipFile\r\n",
        "with ZipFile('/content/drive/MyDrive/LFW_VERIFIED0128/batch023_verified.zip', 'r') as zipObj:\r\n",
        "   # Extract all the contents of zip file in different directory\r\n",
        "   zipObj.extractall('/')"
      ],
      "execution_count": 70,
      "outputs": []
    },
    {
      "cell_type": "code",
      "metadata": {
        "id": "vom9Qh8InAuT"
      },
      "source": [
        "import os\r\n",
        "\r\n",
        "\r\n",
        "srcPath = '/content/batch023_verified/'\r\n",
        "for name_file in os.listdir(srcPath):\r\n",
        "  for file in os.listdir(srcPath+name_file):    \r\n",
        "    if os.path.isfile(os.path.join(srcPath+name_file,file))==True:\r\n",
        "      newname = file + '.png'\r\n",
        "      os.rename(os.path.join(srcPath+name_file, file), os.path.join(srcPath+name_file, newname))\r\n"
      ],
      "execution_count": 86,
      "outputs": []
    },
    {
      "cell_type": "code",
      "metadata": {
        "id": "Q3e7TXtxvswP"
      },
      "source": [
        "from zipfile import ZipFile\r\n",
        "with ZipFile('/content/drive/MyDrive/LFW_one1.zip', 'r') as zipObj:\r\n",
        "   # Extract all the contents of zip file in different directory\r\n",
        "   zipObj.extractall('/agumented')"
      ],
      "execution_count": 44,
      "outputs": []
    },
    {
      "cell_type": "code",
      "metadata": {
        "id": "66zkFzVpwGPi"
      },
      "source": [
        " \r\n",
        "\r\n",
        "srcPath=\"/content/batch023_verified/\"\r\n",
        "dstPath =  \"/agumented/content/LFW_one1/\"\r\n",
        "def copyfile(srcPath,dstPath):\r\n",
        "   \r\n",
        "    \r\n",
        "    for name_file in os.listdir(dstPath):\r\n",
        "      keyword=name_file\r\n",
        "      #print(keyword)\r\n",
        "      for name_file1 in os.listdir(srcPath):\r\n",
        "        if keyword in name_file1:\r\n",
        "          #print(keyword)\r\n",
        "          count=0\r\n",
        "          count2 = 200\r\n",
        "          for file in os.listdir(srcPath+name_file1):\r\n",
        "            path = os.path.join(srcPath+str(name_file1)+'/'+file)\r\n",
        "            with open(path, 'rb') as rstream:\r\n",
        "              container = rstream.read()\r\n",
        "              path2 = os.path.join(dstPath+str(name_file)+'/'+ str(name_file)+'_0%3d'%(count2)+'_0.png')\r\n",
        "              print(path2)\r\n",
        "              if count <9:\r\n",
        "                with open(path2, 'wb') as wstream:\r\n",
        "                  wstream.write(container)\r\n",
        "                  count2+=1\r\n",
        "                  count+=1\r\n",
        "            \r\n",
        "\r\n",
        "\r\n",
        "\r\n",
        "\r\n",
        "\r\n",
        "  \r\n",
        "\r\n",
        "\r\n",
        "\r\n"
      ],
      "execution_count": 109,
      "outputs": []
    },
    {
      "cell_type": "code",
      "metadata": {
        "colab": {
          "base_uri": "https://localhost:8080/"
        },
        "id": "763doywLEhf4",
        "outputId": "7329dea4-85a0-492b-f89a-a750cb951e3e"
      },
      "source": [
        "copyfile(srcPath,dstPath)\r\n"
      ],
      "execution_count": 88,
      "outputs": [
        {
          "output_type": "stream",
          "text": [
            "/agumented/content/LFW_one1/Padraig_Harrington/Padraig_Harrington_0200_0.png\n",
            "/agumented/content/LFW_one1/Matthew_Perry/Matthew_Perry_0200_0.png\n",
            "/agumented/content/LFW_one1/Matthew_Perry/Matthew_Perry_0201_0.png\n",
            "/agumented/content/LFW_one1/Matthew_Perry/Matthew_Perry_0202_0.png\n",
            "/agumented/content/LFW_one1/Goldie_Hawn/Goldie_Hawn_0200_0.png\n",
            "/agumented/content/LFW_one1/Goldie_Hawn/Goldie_Hawn_0201_0.png\n",
            "/agumented/content/LFW_one1/Goldie_Hawn/Goldie_Hawn_0202_0.png\n",
            "/agumented/content/LFW_one1/William_Bratton/William_Bratton_0200_0.png\n",
            "/agumented/content/LFW_one1/William_Bratton/William_Bratton_0201_0.png\n",
            "/agumented/content/LFW_one1/William_Bratton/William_Bratton_0202_0.png\n",
            "/agumented/content/LFW_one1/Isaiah_Washington/Isaiah_Washington_0200_0.png\n",
            "/agumented/content/LFW_one1/Isaiah_Washington/Isaiah_Washington_0201_0.png\n",
            "/agumented/content/LFW_one1/Isaiah_Washington/Isaiah_Washington_0202_0.png\n",
            "/agumented/content/LFW_one1/Isaiah_Washington/Isaiah_Washington_0203_0.png\n",
            "/agumented/content/LFW_one1/Klaus_Zwickel/Klaus_Zwickel_0200_0.png\n",
            "/agumented/content/LFW_one1/Abid_Hamid_Mahmud_Al-Tikriti/Abid_Hamid_Mahmud_Al-Tikriti_0200_0.png\n",
            "/agumented/content/LFW_one1/Carlos_Beltran/Carlos_Beltran_0200_0.png\n",
            "/agumented/content/LFW_one1/Cruz_Bustamante/Cruz_Bustamante_0200_0.png\n",
            "/agumented/content/LFW_one1/James_Blake/James_Blake_0200_0.png\n",
            "/agumented/content/LFW_one1/Jeb_Bush/Jeb_Bush_0200_0.png\n",
            "/agumented/content/LFW_one1/Jeb_Bush/Jeb_Bush_0201_0.png\n",
            "/agumented/content/LFW_one1/Jeb_Bush/Jeb_Bush_0202_0.png\n",
            "/agumented/content/LFW_one1/Jeb_Bush/Jeb_Bush_0203_0.png\n",
            "/agumented/content/LFW_one1/Matthew_Broderick/Matthew_Broderick_0200_0.png\n",
            "/agumented/content/LFW_one1/Matthew_Broderick/Matthew_Broderick_0201_0.png\n",
            "/agumented/content/LFW_one1/Matthew_Broderick/Matthew_Broderick_0202_0.png\n",
            "/agumented/content/LFW_one1/Matthew_Broderick/Matthew_Broderick_0203_0.png\n",
            "/agumented/content/LFW_one1/Matthew_Broderick/Matthew_Broderick_0204_0.png\n",
            "/agumented/content/LFW_one1/Susilo_Bambang_Yudhoyono/Susilo_Bambang_Yudhoyono_0200_0.png\n",
            "/agumented/content/LFW_one1/Susilo_Bambang_Yudhoyono/Susilo_Bambang_Yudhoyono_0201_0.png\n",
            "/agumented/content/LFW_one1/Tom_Crean/Tom_Crean_0200_0.png\n",
            "/agumented/content/LFW_one1/Tom_Crean/Tom_Crean_0201_0.png\n",
            "/agumented/content/LFW_one1/Tom_Crean/Tom_Crean_0202_0.png\n",
            "/agumented/content/LFW_one1/Stan_Heath/Stan_Heath_0200_0.png\n",
            "/agumented/content/LFW_one1/William_Hochul/William_Hochul_0200_0.png\n",
            "/agumented/content/LFW_one1/William_Hochul/William_Hochul_0201_0.png\n",
            "/agumented/content/LFW_one1/William_Hochul/William_Hochul_0202_0.png\n",
            "/agumented/content/LFW_one1/William_Hochul/William_Hochul_0203_0.png\n",
            "/agumented/content/LFW_one1/William_Hochul/William_Hochul_0204_0.png\n",
            "/agumented/content/LFW_one1/William_Hochul/William_Hochul_0205_0.png\n",
            "/agumented/content/LFW_one1/Gwendal_Peizerat/Gwendal_Peizerat_0200_0.png\n",
            "/agumented/content/LFW_one1/Gwendal_Peizerat/Gwendal_Peizerat_0201_0.png\n",
            "/agumented/content/LFW_one1/Gwendal_Peizerat/Gwendal_Peizerat_0202_0.png\n",
            "/agumented/content/LFW_one1/Ashanti/Ashanti_0200_0.png\n",
            "/agumented/content/LFW_one1/Ashanti/Ashanti_0201_0.png\n",
            "/agumented/content/LFW_one1/Ashanti/Ashanti_0202_0.png\n",
            "/agumented/content/LFW_one1/Ashanti/Ashanti_0203_0.png\n",
            "/agumented/content/LFW_one1/Ashanti/Ashanti_0204_0.png\n",
            "/agumented/content/LFW_one1/Ashanti/Ashanti_0205_0.png\n",
            "/agumented/content/LFW_one1/Ashanti/Ashanti_0206_0.png\n",
            "/agumented/content/LFW_one1/Ashanti/Ashanti_0207_0.png\n",
            "/agumented/content/LFW_one1/Ashanti/Ashanti_0208_0.png\n",
            "/agumented/content/LFW_one1/Martha_Stewart/Martha_Stewart_0200_0.png\n",
            "/agumented/content/LFW_one1/Mike_Brey/Mike_Brey_0200_0.png\n",
            "/agumented/content/LFW_one1/Mike_Brey/Mike_Brey_0201_0.png\n",
            "/agumented/content/LFW_one1/Mike_Brey/Mike_Brey_0202_0.png\n",
            "/agumented/content/LFW_one1/Mike_Brey/Mike_Brey_0203_0.png\n",
            "/agumented/content/LFW_one1/Mike_Brey/Mike_Brey_0204_0.png\n",
            "/agumented/content/LFW_one1/Mike_Brey/Mike_Brey_0205_0.png\n",
            "/agumented/content/LFW_one1/Mike_Brey/Mike_Brey_0206_0.png\n",
            "/agumented/content/LFW_one1/Mike_Brey/Mike_Brey_0207_0.png\n",
            "/agumented/content/LFW_one1/Ray_Nagin/Ray_Nagin_0200_0.png\n",
            "/agumented/content/LFW_one1/Ray_Nagin/Ray_Nagin_0201_0.png\n",
            "/agumented/content/LFW_one1/Ray_Nagin/Ray_Nagin_0202_0.png\n",
            "/agumented/content/LFW_one1/Ray_Nagin/Ray_Nagin_0203_0.png\n",
            "/agumented/content/LFW_one1/Ray_Nagin/Ray_Nagin_0204_0.png\n",
            "/agumented/content/LFW_one1/Ray_Nagin/Ray_Nagin_0205_0.png\n",
            "/agumented/content/LFW_one1/Ray_Nagin/Ray_Nagin_0206_0.png\n"
          ],
          "name": "stdout"
        }
      ]
    },
    {
      "cell_type": "code",
      "metadata": {
        "id": "KWhGiRpvRJxb"
      },
      "source": [
        ""
      ],
      "execution_count": null,
      "outputs": []
    }
  ]
}