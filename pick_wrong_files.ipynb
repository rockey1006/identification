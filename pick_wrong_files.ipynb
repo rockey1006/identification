{
  "nbformat": 4,
  "nbformat_minor": 0,
  "metadata": {
    "colab": {
      "name": "pick_wrong_files.ipynb",
      "provenance": [],
      "machine_shape": "hm",
      "authorship_tag": "ABX9TyNeLxLEGSZ3+oEZqifIXifg",
      "include_colab_link": true
    },
    "kernelspec": {
      "name": "python3",
      "display_name": "Python 3"
    },
    "accelerator": "GPU"
  },
  "cells": [
    {
      "cell_type": "markdown",
      "metadata": {
        "id": "view-in-github",
        "colab_type": "text"
      },
      "source": [
        "<a href=\"https://colab.research.google.com/github/rockey1006/identification/blob/main/pick_wrong_files.ipynb\" target=\"_parent\"><img src=\"https://colab.research.google.com/assets/colab-badge.svg\" alt=\"Open In Colab\"/></a>"
      ]
    },
    {
      "cell_type": "code",
      "metadata": {
        "colab": {
          "base_uri": "https://localhost:8080/"
        },
        "id": "rx-un08ax9Et",
        "outputId": "90eeb9e5-137e-423d-c2ed-7474736aa2a7"
      },
      "source": [
        "from google.colab import drive\r\n",
        "drive.mount('/content/drive')"
      ],
      "execution_count": 1,
      "outputs": [
        {
          "output_type": "stream",
          "text": [
            "Mounted at /content/drive\n"
          ],
          "name": "stdout"
        }
      ]
    },
    {
      "cell_type": "code",
      "metadata": {
        "id": "-0TwUr_0zRb3"
      },
      "source": [
        "\r\n",
        "from zipfile import ZipFile\r\n",
        "with ZipFile('/content/drive/MyDrive/LFW_one2.zip', 'r') as zipObj:\r\n",
        "   # Extract all the contents of zip file in different directory\r\n",
        "   zipObj.extractall('LFW3')"
      ],
      "execution_count": 10,
      "outputs": []
    },
    {
      "cell_type": "code",
      "metadata": {
        "colab": {
          "base_uri": "https://localhost:8080/"
        },
        "id": "szj8S1DF2Om3",
        "outputId": "5eab2040-b385-46a0-ad96-fc0108cb2dda"
      },
      "source": [
        "!git clone https://github.com/rockey1006/classifier_1110.git\r\n"
      ],
      "execution_count": 8,
      "outputs": [
        {
          "output_type": "stream",
          "text": [
            "Cloning into 'classifier_1110'...\n",
            "remote: Enumerating objects: 15, done.\u001b[K\n",
            "remote: Counting objects: 100% (15/15), done.\u001b[K\n",
            "remote: Compressing objects: 100% (14/14), done.\u001b[K\n",
            "remote: Total 15 (delta 0), reused 0 (delta 0), pack-reused 0\u001b[K\n",
            "Unpacking objects: 100% (15/15), done.\n"
          ],
          "name": "stdout"
        }
      ]
    },
    {
      "cell_type": "code",
      "metadata": {
        "id": "tgtqPYIz2P6P"
      },
      "source": [
        "from zipfile import ZipFile\r\n",
        "with ZipFile('/content/drive/My Drive/vgg_face_weights.zip', 'r') as zipObj:\r\n",
        "   # Extract all the contents of zip file in different directory\r\n",
        "   zipObj.extractall('vgg_face_weights/')"
      ],
      "execution_count": 9,
      "outputs": []
    },
    {
      "cell_type": "code",
      "metadata": {
        "id": "Wyj0WvWN2TCp"
      },
      "source": [
        "!python /content/classifier_1110/Face2020.py\r\n"
      ],
      "execution_count": null,
      "outputs": []
    },
    {
      "cell_type": "code",
      "metadata": {
        "id": "n9SZMpUd6l08"
      },
      "source": [
        "positions = [14,   18,   25,   26,   37,   41,   42,   48,   52,   58,   66,\r\n",
        "         67,   74,  103,  107,  114,  117,  127,  129,  133,  148,  149,\r\n",
        "        158,  189,  204,  208,  209,  210,  222,  223,  237,  246,  248,\r\n",
        "        291,  304,  306,  321,  322,  343,  354,  373,  384,  385,  388,\r\n",
        "        389,  401,  424,  459,  461,  470,  472,  479,  487,  502,  503,\r\n",
        "        505,  519,  538,  549,  570,  577,  587,  589,  595,  600,  606,\r\n",
        "        607,  628,  641,  667,  706,  713,  718,  720,  732,  736,  738,\r\n",
        "        747,  762,  777,  778,  785,  786,  787,  788,  794,  797,  800,\r\n",
        "        802,  803,  809,  810,  814,  819,  825,  843,  848,  858,  867,\r\n",
        "        870,  873,  875,  876,  883,  891,  896,  904,  906,  914,  929,\r\n",
        "        950,  962,  969,  972,  973,  976,  981,  985, 1001, 1008, 1021,\r\n",
        "       1043, 1045, 1057, 1063, 1074, 1087, 1091, 1104, 1175, 1178, 1207,\r\n",
        "       1219, 1225, 1237, 1241, 1244, 1251, 1252, 1263, 1270, 1285, 1314,\r\n",
        "       1318, 1327, 1351, 1354, 1393, 1394, 1398, 1402, 1404, 1406, 1417,\r\n",
        "       1424, 1435, 1464, 1476, 1482, 1499, 1501, 1503, 1528, 1532, 1548,\r\n",
        "       1551, 1560, 1561, 1564, 1566, 1568, 1573, 1590, 1598, 1602, 1624,\r\n",
        "       1627, 1629, 1647, 1656, 1690, 1695, 1696, 1701, 1704, 1707, 1710,\r\n",
        "       1719, 1724, 1742, 1749, 1764, 1765, 1766, 1768, 1775, 1784, 1788,\r\n",
        "       1820, 1837, 1850, 1857, 1863, 1868, 1869, 1870, 1871, 1882, 1892,\r\n",
        "       1900, 1908, 1912, 1922, 1933, 1936, 1940, 1945, 1964, 1971, 1975,\r\n",
        "       2003, 2007, 2011, 2014, 2046, 2055, 2057, 2072, 2076, 2084, 2085,\r\n",
        "       2101, 2138, 2145, 2148, 2153, 2163, 2175, 2180, 2199, 2210, 2213,\r\n",
        "       2243, 2254, 2264, 2265, 2273, 2276, 2288, 2290, 2307, 2319, 2322,\r\n",
        "       2332, 2337, 2386, 2391, 2406, 2421, 2438, 2444, 2446, 2450, 2451,\r\n",
        "       2456, 2462, 2464, 2468, 2477, 2494, 2499, 2506, 2507, 2514, 2526,\r\n",
        "       2546, 2569, 2570, 2579, 2581, 2614, 2624, 2630, 2652, 2664, 2669,\r\n",
        "       2679, 2684, 2721, 2723, 2725, 2739, 2750, 2760, 2776, 2778, 2779,\r\n",
        "       2791, 2792, 2795, 2798, 2807, 2815, 2816, 2825, 2828, 2837, 2846,\r\n",
        "       2852, 2853, 2857, 2859, 2860, 2889, 2892, 2897, 2899, 2920, 2945,\r\n",
        "       2950, 2978, 3011, 3013, 3038, 3044, 3075, 3088, 3091, 3100, 3107,\r\n",
        "       3125, 3126, 3127, 3140, 3146, 3153, 3156, 3162, 3166, 3167, 3176,\r\n",
        "       3178, 3189, 3195, 3198, 3202, 3207, 3215, 3219, 3228, 3233, 3237,\r\n",
        "       3241, 3248, 3253, 3268, 3274, 3283, 3290, 3293, 3304, 3311, 3312,\r\n",
        "       3316, 3332, 3350, 3351, 3383, 3390, 3391, 3394, 3396, 3401, 3413,\r\n",
        "       3422, 3453, 3462, 3468, 3472, 3502, 3515, 3516, 3550, 3552, 3566,\r\n",
        "       3583, 3593, 3599, 3603, 3606, 3609, 3616, 3625, 3627, 3629, 3635,\r\n",
        "       3663, 3667, 3677, 3681, 3703, 3712, 3715, 3728, 3731, 3737, 3743,\r\n",
        "       3745, 3747, 3771, 3775, 3789, 3791, 3800, 3811, 3812, 3820, 3835,\r\n",
        "       3846, 3859, 3868, 3874, 3883, 3892, 3899, 3900, 3920, 3929, 3933,\r\n",
        "       3934, 3946, 3967, 3979, 3982, 3985, 3991, 3994, 3995, 3998, 4003,\r\n",
        "       4005, 4010, 4016, 4023, 4044, 4053, 4063, 4065, 4069, 4079, 4089,\r\n",
        "       4104, 4114, 4116, 4119, 4121, 4138, 4152, 4161, 4172, 4180, 4207,\r\n",
        "       4210, 4221, 4223, 4224, 4226, 4244, 4268, 4269, 4274, 4277, 4281,\r\n",
        "       4287, 4290, 4296, 4308, 4316, 4327, 4330, 4332, 4371, 4407, 4416,\r\n",
        "       4424, 4426, 4429, 4432, 4457, 4469, 4492, 4518, 4539, 4550, 4551,\r\n",
        "       4553, 4574, 4577, 4581, 4583, 4584, 4606, 4619, 4622, 4624, 4637,\r\n",
        "       4643, 4652, 4653, 4655, 4656, 4657, 4668, 4676, 4680, 4681, 4689,\r\n",
        "       4692, 4704, 4721, 4755, 4786, 4802, 4805, 4815, 4824, 4825, 4828,\r\n",
        "       4833, 4836, 4841, 4863, 4867, 4869, 4876, 4880, 4884, 4891, 4894,\r\n",
        "       4898, 4914, 4915, 4939, 4949, 4950, 4957, 4958, 4961, 4963, 4969,\r\n",
        "       4975, 4985, 4988, 4996, 4998, 4999, 5008, 5016, 5018, 5036, 5037,\r\n",
        "       5039, 5040, 5064, 5074, 5091, 5095, 5132, 5144, 5148, 5162, 5192,\r\n",
        "       5196, 5201, 5220, 5230, 5251, 5262, 5295, 5303, 5310, 5312, 5319,\r\n",
        "       5320, 5323, 5338, 5339, 5354, 5355, 5361, 5363, 5371, 5391, 5405,\r\n",
        "       5408, 5413, 5415, 5428, 5436, 5441, 5442, 5446, 5448, 5458, 5467,\r\n",
        "       5478, 5494, 5496, 5502, 5503, 5508, 5514, 5520, 5523, 5530, 5532,\r\n",
        "       5533, 5536, 5541, 5549, 5566, 5569, 5570, 5573, 5583, 5592, 5595,\r\n",
        "       5601, 5605, 5621, 5627, 5630, 5658, 5664, 5667, 5669, 5672, 5685,\r\n",
        "       5687, 5704, 5714, 5728, 5736]"
      ],
      "execution_count": 12,
      "outputs": []
    },
    {
      "cell_type": "code",
      "metadata": {
        "colab": {
          "base_uri": "https://localhost:8080/"
        },
        "id": "yeqYWYNw6slQ",
        "outputId": "3ed26863-9641-4af7-c886-948e0033dcad"
      },
      "source": [
        "\r\n",
        "import numpy as np\r\n",
        "import os\r\n",
        " \r\n",
        "img_path='/content/LFW1/content/LFW_one1/'\r\n",
        "names = [] \r\n",
        "img_list=sorted(os.listdir(img_path))\t#\r\n",
        "count = 0\r\n",
        "img_nums=len(img_list)\r\n",
        "name_nums = len(positions)\r\n",
        "for i in range(img_nums):\r\n",
        "  for j in positions:\r\n",
        "          if i==j:\r\n",
        "            names.append(img_list[i])\r\n",
        "print(names)\r\n"
      ],
      "execution_count": 23,
      "outputs": [
        {
          "output_type": "stream",
          "text": [
            "['Abdoulaye_Wade', 'Abdullah', 'Abel_Pacheco', 'Abid_Hamid_Mahmud_Al-Tikriti', 'Adam_Scott', 'Adolfo_Aguilar_Zinser', 'Adolfo_Rodriguez_Saa', 'Adrian_Nastase', 'Adrien_Brody', 'Ahmad_Masood', 'Ahmet_Necdet_Sezer', 'Ai_Sugiyama', 'Aitor_Gonzalez', 'Alastair_Campbell', 'Albert_Costa', 'Alberto_Ruiz_Gallardon', 'Aldo_Paredes', 'Alejandro_Toledo', 'Aleksander_Kwasniewski', 'Alex_Barros', 'Alexander_Downer', 'Alexander_Losyukov', 'Alexandra_Vodjanikova', 'Alimzhan_Tokhtakhounov', 'Allyson_Felix', 'Alvaro_Noboa', 'Alvaro_Silva_Calderon', 'Alvaro_Uribe', 'Amelia_Vega', 'Amelie_Mauresmo', 'Ana_Guevara', 'Anders_Fogh_Rasmussen', 'Andre_Agassi', 'Andy_Roddick', 'Angelina_Jolie', 'Angelo_Reyes', 'Anna_Kournikova', 'Anna_Nicole_Smith', 'Anthony_Hopkins', 'Antonio_Banderas', 'Ariel_Sharon', 'Arnold_Palmer', 'Arnold_Schwarzenegger', 'Aron_Ralston', 'Arsinee_Khanjian', 'Ashanti', 'Augustin_Calleri', 'Barry_Zito', 'Bart_Hendricks', 'Begum_Khaleda_Zia', 'Ben_Affleck', 'Ben_Curtis', 'Benazir_Bhutto', 'Bernard_Law', 'Bernard_Lord', 'Bernardo_Segura', 'Bijan_Darvish', 'Bill_Gates', 'Bill_McBride', 'Billy_Crystal', 'Billy_Sollie', 'Bo_Ryan', 'Bob_Beauprez', 'Bob_Dole', 'Bob_Graham', 'Bob_Hope', 'Bob_Huggins', 'Bono', 'Brad_Johnson', 'Brendan_Hansen', 'Britney_Spears', 'Brooke_Shields', 'Bruce_Springsteen', 'Bruce_Weber', 'Bud_Selig', 'Bulent_Ecevit', 'Butch_Davis', 'Cameron_Diaz', 'Carl_Reiner', 'Carlos_Beltran', 'Carlos_Bianchi', 'Carlos_Manuel_Pruneda', 'Carlos_Menem', 'Carlos_Mesa', 'Carlos_Moya', 'Carlos_Ruiz', 'Carlos_Vives', 'Carly_Fiorina', 'Carmen_Electra', 'Carol_Burnett', 'Carolina_Kluft', 'Carolina_Moraes', 'Carolyn_Dawn_Johnson', 'Carson_Palmer', 'Cate_Blanchett', 'Celine_Dion', 'Cesar_Maia', 'Chang_Dae-whan', 'Charles_Bronson', 'Charles_Grassley', 'Charles_Kartman', 'Charles_Mathews', 'Charles_Moose', 'Charles_Taylor', 'Charlie_Zaa', 'Charlotte_Rampling', 'Chen_Shui-bian', 'Cherie_Blair', 'Chick_Hearn', 'Chris_Byrd', 'Chris_Rock', 'Christian_Longo', 'Christina_Aguilera', 'Christine_Baumgartner', 'Christine_Ebersole', 'Christine_Todd_Whitman', 'Christopher_Patten', 'Christopher_Walken', 'Cindy_Crawford', 'Claire_Danes', 'Claudia_Pechstein', 'Colin_Farrell', 'Colin_Montgomerie', 'Conan_OBrien', 'Constance_Marie', 'Courtney_Love', 'Cristina_Fernandez', 'Cruz_Bustamante', 'Daisy_Fuentes', 'Darrell_Porter', 'Darren_Clarke', 'David_Beckham', 'David_Caruso', 'David_Dodge', 'David_Heymann', 'David_Hyde_Pierce', 'David_Leahy', 'David_Myers', 'David_Nalbandian', 'David_Spade', 'David_Wells', 'Debra_Messing', 'Denzel_Washington', 'Derek_Jeter', 'Desiree_Lemosi', 'Dick_Latessa', 'Dick_Vermeil', 'Don_Nickles', 'Don_Siegelman', 'Donald_Fehr', 'Donald_Pettit', 'Donald_Rumsfeld', 'Donatella_Versace', 'Doris_Schroeder', 'Doug_Collins', 'Drew_Barrymore', 'Ed_Rosenthal', 'Eddy_Merckx', 'Edmund_Stoiber', 'Edward_Kennedy', 'Edward_Lu', 'Edward_Said', 'Eliane_Karp', 'Elin_Nordegren', 'Elizabeth_Taylor', 'Ellen_Engleman', 'Elsa_Zylberstein', 'Elton_John', 'Elvis_Presley', 'Emanuel_Ginobili', 'Emile_Lahoud', 'Emily_Robison', 'Enrique_Bolanos', 'Eric_Clapton', 'Eric_Hinske', 'Erin_Runnion', 'Ernie_Els', 'Ernie_Fletcher', 'Eunice_Barber', 'Evander_Holyfield', 'Felix_Mantilla', 'Fernando_Gonzalez', 'Fernando_Henrique_Cardoso', 'Fernando_Vargas', 'Fidel_Castro', 'Filippo_Inzaghi', 'Flavia_Delaroli', 'Frances_Fisher', 'Francis_George', 'Frank_Cassell', 'Frank_Lautenberg', 'Franko_Simatovic', 'Franz_Beckenbauer', 'Franz_Fischler', 'Franz_Muentefering', 'Fred_Thompson', 'Fujio_Cho', 'Gabriel_Batistuta', 'Gary_Locke', 'Gene_Robinson', 'George_Clooney', 'George_Lopez', 'George_Papandreou', 'George_Ryan', 'George_Tenet', 'George_Voinovich', 'George_W_Bush', 'Geraldine_Chaplin', 'Gerhard_Schroeder', 'Gian_Marco', 'Gil_de_Ferran', 'Gillian_Anderson', 'Giuseppe_Gibilisco', 'Gloria_Macapagal_Arroyo', 'Goldie_Hawn', 'Gonzalo_Sanchez_de_Lozada', 'Gordon_Brown', 'Gray_Davis', 'Greg_Ostertag', 'Gregg_Popovich', 'Gustavo_Kuerten', 'Guy_Hemmings', 'Gwendal_Peizerat', 'Habib_Rizieq', 'Hans_Eichel', 'Harrison_Ford', 'Harry_Kalas', 'Hayley_Tullett', 'Heather_Mills', 'Heidi_Fleiss', 'Heidi_Klum', 'Henrique_Meirelles', 'Hisao_Oguchi', 'Holly_Hunter', 'Hootie_Johnson', 'Horst_Koehler', 'Hu_Jintao', 'Hugo_Chavez', 'Hun_Sen', 'Ian_Thorpe', 'Igor_Ivanov', 'Ilan_Ramon', 'Isaiah_Washington', 'Iva_Majoli', 'JJ_Redick', 'JK_Rowling', 'Jack_Nicholson', 'Jack_Straw', 'Jacques_Chirac', 'Jacques_Rogge', 'James_Blake', 'James_Cunningham', 'James_Gandolfini', 'James_Kelly', 'James_Maguire', 'Jane_Fonda', 'Jane_Pauley', 'Janica_Kostelic', 'Jason_Jennings', 'Javier_Solana', 'Jay_Garner', 'Jay_Rasulo', 'Jean-Claude_Braquet', 'Jean-Claude_Juncker', 'Jean-Francois_Pontal', 'Jean-Pierre_Raffarin', 'Jean-Sebastien_Giguere', 'Jean_Chretien', 'Jeb_Bush', 'Jeffrey_Immelt', 'Jelena_Dokic', 'Jennifer_Aniston', 'Jennifer_Capriati', 'Jennifer_Lopez', 'Jeong_Se-hyun', 'Jerry_Regier', 'Jia_Qinglin', 'Jiang_Zemin', 'Jim_Carrey', 'Jim_Edmonds', 'Jimmy_Carter', 'Jo_Dee_Messina', 'Joan_Laporta', 'Joe_Dumars', 'Joe_Nichols', 'Joe_Torre', 'John_Abizaid', 'John_Banko', 'John_Howard', 'John_Jumper', 'John_Kerry', 'John_McCallum', 'John_Paul_II', 'John_Rosa', 'John_Taylor', 'John_Timoney', 'John_Travolta', 'Johnny_Carson', 'Johnny_Depp', 'Johnny_Tapia', 'Jolanta_Kwasniewski', 'Jonathan_Edwards', 'Jong_Thae_Hwa', 'Jong_Wook_Lee', 'Jorge_Rodolfo_Canicoba_Corral', 'Joschka_Fischer', 'Jose_Dirceu', 'Jose_Maria_Aznar', 'Jose_Serra', 'Jose_Theodore', 'Joseph_Biden', 'Joseph_Deiss', 'Joseph_Estrada', 'Juan_Ignacio_Chela', 'Juan_Pablo_Montoya', 'Juanes', 'Jude_Law', 'Julianne_Moore', 'Justin_Leonard', 'Justine_Pasek', 'Kate_Hudson', 'Keanu_Reeves', 'Keira_Knightley', 'Kelvin_Sampson', 'Ken_Macha', 'Kevin_Spacey', 'Kiki_Vandeweghe', 'Kim_Clijsters', 'Kim_Ryong-sung', 'Kimi_Raikkonen', 'Klaus_Zwickel', 'Kobe_Bryant', 'Kofi_Annan', 'Kristin_Davis', 'Kurt_Busch', 'Kurt_Warner', 'Kwon_Yang-sook', 'LK_Advani', 'Lance_Armstrong', 'Lance_Bass', 'Larry_Brown', 'Larry_Coker', 'Larry_Lucchino', 'Larry_Thompson', 'Lars_Von_Trier', 'Laura_Bush', 'Laura_Linney', 'Lauren_Hutton', 'Laurent_Gbagbo', 'Lawrence_MacAulay', 'LeBron_James', 'Leander_Paes', 'Lech_Walesa', 'Lee_Hoi-chang', 'Lee_Soo-hyuck', 'Lennox_Lewis', 'Leon_LaPorte', 'Leonid_Kuchma', 'Leslie_Moonves', 'Leszek_Miller', 'Liam_Neeson', 'Lily_Tomlin', 'Lim_Dong-won', 'Lina_Krasnoroutskaya', 'Lino_Oviedo', 'Liza_Minnelli', 'Lleyton_Hewitt', 'Lucio_Gutierrez', 'Luis_Ernesto_Derbez_Bautista', 'Luis_Figo', 'Luis_Gonzalez_Macchi', 'Luis_Horna', 'Luiz_Inacio_Lula_da_Silva', 'Lynne_Cheney', 'Madonna', 'Manuel_Poggiali', 'Marc_Grossman', 'Marcelo_Ebrard', 'Marco_Antonio_Barrera', 'Mariah_Carey', 'Marieta_Chrousala', 'Marilyn_Monroe', 'Mark_Geragos', 'Mark_Hamister', 'Mark_Philippoussis', 'Marlene_Weingartner', 'Martha_Bowen', 'Martha_Stewart', 'Martin_Brodeur', 'Martin_Cauchon', 'Martin_Hoellwarth', 'Martin_McCauley', 'Martina_Hingis', 'Marty_Mornhinweg', 'Marwan_Barghouthi', 'Mary_Carey', 'Mathias_Reichhold', 'Matt_Damon', 'Matthew_Broderick', 'Matthew_Perry', 'Megan_Mullally', 'Mel_Gibson', 'Melanie_Griffith', 'Meryl_Streep', 'Mian_Khursheed_Mehmood_Kasuri', 'Michael_Bloomberg', 'Michael_Caine', 'Michael_Chang', 'Michael_Chiklis', 'Michael_Keaton', 'Michael_Kostelnik', 'Michael_Phelps', 'Michael_Powell', 'Michael_Sullivan', 'Michel_Temer', 'Michel_Therrien', 'Michelle_Kwan', 'Miguel_Contreras', 'Mike_Brey', 'Mike_Holmgren', 'Mike_Montgomery', 'Mike_Scioscia', 'Mike_Tyson', 'Mikhail_Youzhny', 'Milo_Djukanovic', 'Milo_Maestrecampo', 'Mitchell_Daniels', 'Miyako_Miyazaki', 'Mohamed_Benaissa', 'Mohamed_ElBaradei', 'Mohammed_Al-Douri', 'Monique_Garbrecht-Enfeldt', 'Muammar_Gaddafi', 'Muhammad_Ali', 'Mukesh_Ambani', 'Nabil_Shaath', 'Nadine_Vinzens', 'Naji_Sabri', 'Nan_Wang', 'Nancy_Pelosi', 'Nancy_Reagan', 'Naomi_Campbell', 'Nasser_al-Kidwa', 'Natalie_Cole', 'Nathan_Lane', 'Nelson_Mandela', 'Nicanor_Duarte_Frutos', 'Nicholas_Tse', 'Nick_Nolte', 'Nicolas_Escude', 'Nicole_Kidman', 'Noah_Wyle', 'Nora_Bendijo', 'Norah_Jones', 'Norm_Coleman', 'Norman_Jewison', 'Olesya_Bonabarenko', 'Oprah_Winfrey', 'Oscar_De_La_Hoya', 'Oxana_Fedorova', 'Padraig_Harrington', 'Patricia_Clarkson', 'Patricia_Heaton', 'Patrick_Ewing', 'Patrick_Leahy', 'Patrick_McEnroe', 'Patrick_Roy', 'Paul_Byrd', 'Paul_Martin', 'Paul_McCartney', 'Paul_ONeill', 'Paul_Pierce', 'Paul_Shanley', 'Paul_Wellstone', 'Paul_Wolfowitz', 'Paula_Radcliffe', 'Pedro_Malan', 'Penelope_Cruz', 'Pervez_Musharraf', 'Pete_Carroll', 'Pete_Rose', 'Peter_Struck', 'Pierre_Pettigrew', 'Placido_Domingo', 'Prince_Charles', 'Prince_Edward', 'Prince_Naruhito', 'Prince_Willem-Alexander', 'Queen_Latifah', 'Rachel_Hunter', 'Ralf_Schumacher', 'Ranil_Wickremasinghe', 'Ray_Nagin', 'Rebekah_Chantay_Revels', 'Recep_Tayyip_Erdogan', 'Reese_Witherspoon', 'Ricardo_Maduro', 'Ricardo_Sanchez', 'Richard_Armitage', 'Richard_Branson', 'Richard_Butler', 'Richard_Myers', 'Richard_Shelby', 'Richard_Virenque', 'Richie_Adubato', 'Rick_Romley', 'Ricky_Martin', 'Rio_Ferdinand', 'Rita_Grande', 'Rita_Wilson', 'Rob_Lowe', 'Rob_Marshall', 'Robby_Ginepri', 'Robert_De_Niro', 'Robert_Duvall', 'Robert_Ehrlich', 'Robert_Horan', 'Robert_Kocharian', 'Robert_Redford', 'Roberto_Carlos', 'Roger_Clemens', 'Romano_Prodi', 'Ronald_Reagan', 'Ronaldo_Luis_Nazario_de_Lima', 'Roseanne_Barr', 'Roy_Jones_Jr', 'Roy_Moore', 'Roy_Williams', 'Rubens_Barrichello', 'Rudolph_Giuliani', 'Rupert_Murdoch', 'Sachiko_Yamada', 'Saddam_Hussein', 'Saeb_Erekat', 'Sally_Kirkland', 'Salman_Rushdie', 'Sam_Mendes', 'Samira_Makhmalbaf', 'Samuel_Waksal', 'Sandra_Bullock', 'Sarah_Hughes', 'Sarah_Jessica_Parker', 'Scott_Sullivan', 'Sean_Hayes', 'Sean_OKeefe', 'Sebastian_Saja', 'Sebastien_Grosjean', 'Sepp_Blatter', 'Serena_Williams', 'Sergei_Ivanov', 'Sergio_Vieira_De_Mello', 'Shane_Mosley', 'Shane_Warne', 'Sharon_Osbourne', 'Sharon_Stone', 'Shaukat_Aziz', 'Sheila_Copps', 'Sheryl_Crow', 'Shia_LaBeouf', 'Silvan_Shalom', 'Silvia_Farina_Elia', 'Silvio_Berlusconi', 'Silvio_Fernandez', 'Sourav_Ganguly', 'Stan_Heath', 'Steffi_Graf', 'Stellan_Skarsgard', 'Steve_Ballmer', 'Steve_Lavin', 'Steve_Nash', 'Steve_Waugh', 'Surakait_Sathirathai', 'Susan_Sarandon', 'Susilo_Bambang_Yudhoyono', 'Sylvester_Stallone', 'Taha_Yassin_Ramadan', 'Tammy_Lynn_Michaels', 'Tassos_Papadopoulos', 'Terrell_Suggs', 'Terry_McAuliffe', 'Thabo_Mbeki', 'Thaksin_Shinawatra', 'Theresa_May', 'Thierry_Falise', 'Thomas_Bjorn', 'Thomas_OBrien', 'Thomas_Rupprath', 'Tiger_Woods', 'Tim_Allen', 'Tim_Duncan', 'Tim_Henman', 'Tim_Robbins', 'Todd_Haynes', 'Tom_Crean', 'Tom_Daschle', 'Tom_Hanks', 'Tom_Harkin', 'Tom_Ridge', 'Tom_Watson', 'Tommy_Franks', 'Tommy_Haas', 'Tommy_Robredo', 'Tommy_Thompson', 'Tony_Blair', 'Tony_Stewart', 'Tracy_McGrady', 'Tubby_Smith', 'Tung_Chee-hwa', 'Tyra_Banks', 'Tyron_Garner', 'Uma_Thurman', 'Vaclav_Havel', 'Valdas_Adamkus', 'Valentino_Rossi', 'Vanessa_Incontrada', 'Vanessa_Redgrave', 'Vanessa_Williams', 'Venus_Williams', 'Vicente_Fox', 'Vidar_Helgesen', 'Vivica_Fox', 'Vladimir_Putin', 'Vladimir_Spidla', 'Vladimiro_Montesinos', 'Walter_Mondale', 'Wang_Yingfan', 'Warren_Buffett', 'Wayne_Gretzky', 'Wen_Jiabao', 'William_Bratton', 'William_Ford_Jr', 'William_Hochul', 'Win_Aung', 'Wolfgang_Schuessel', 'Woody_Allen', 'Wu_Yi', 'Xavier_Malisse', 'Yasar_Yakis', 'Yashwant_Sinha', 'Yoriko_Kawaguchi', 'Yuri_Malenchenko', 'Zarai_Toledo', 'Zhang_Ziyi']\n"
          ],
          "name": "stdout"
        }
      ]
    },
    {
      "cell_type": "code",
      "metadata": {
        "id": "gGE7KX7p-3XT"
      },
      "source": [
        ""
      ],
      "execution_count": null,
      "outputs": []
    },
    {
      "cell_type": "code",
      "metadata": {
        "id": "dyMlw66mzV2d"
      },
      "source": [
        "import os,sys\r\n",
        "import random\r\n",
        "import shutil\r\n",
        "from PIL import Image\r\n",
        " \r\n",
        "\r\n",
        "def copyfile(srcPath,dstPath):\r\n",
        "    for name1 in os.listdir(srcPath):\r\n",
        "      for img_file in os.listdir(srcPath+name1):\r\n",
        "        for name in names:\r\n",
        "          if name1 == name:\r\n",
        "            path = os.path.join(srcPath+name1+'/'+img_file)\r\n",
        "\r\n",
        "            with open(path, 'rb') as rstream:\r\n",
        "                container = rstream.read()\r\n",
        "                path1 = os.path.join(dstPath+'/'+img_file)\r\n",
        "              \r\n",
        "  \r\n",
        "                with open(path1, 'wb') as wstream:\r\n",
        "                    wstream.write(container)\r\n",
        "\r\n",
        " \r\n",
        "\r\n",
        " \r\n",
        "\r\n",
        "srcPath='/content/LFW3/content/LFW_one2/'\r\n",
        "dstPath = '/content/wrong_pics1/'\r\n",
        "if not os.path.exists(dstPath):\r\n",
        "  os.makedirs(dstPath)\r\n",
        "copyfile(srcPath,dstPath)"
      ],
      "execution_count": 27,
      "outputs": []
    },
    {
      "cell_type": "code",
      "metadata": {
        "id": "B8Er2aR-1ltb"
      },
      "source": [
        "!zip -r /content/drive/MyDrive/wrong_pics.zip /content/wrong_pics1/\r\n"
      ],
      "execution_count": null,
      "outputs": []
    },
    {
      "cell_type": "code",
      "metadata": {
        "id": "hTOsZIgj7GrO"
      },
      "source": [
        ""
      ],
      "execution_count": null,
      "outputs": []
    }
  ]
}