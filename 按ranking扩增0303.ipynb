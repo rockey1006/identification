{
  "nbformat": 4,
  "nbformat_minor": 0,
  "metadata": {
    "colab": {
      "name": "按ranking扩增.ipynb",
      "provenance": [],
      "machine_shape": "hm",
      "authorship_tag": "ABX9TyMNs1Gpd6GgLpiNIolls5Qz",
      "include_colab_link": true
    },
    "kernelspec": {
      "name": "python3",
      "display_name": "Python 3"
    },
    "accelerator": "GPU"
  },
  "cells": [
    {
      "cell_type": "markdown",
      "metadata": {
        "id": "view-in-github",
        "colab_type": "text"
      },
      "source": [
        "<a href=\"https://colab.research.google.com/github/rockey1006/identification/blob/main/%E6%8C%89ranking%E6%89%A9%E5%A2%9E0303.ipynb\" target=\"_parent\"><img src=\"https://colab.research.google.com/assets/colab-badge.svg\" alt=\"Open In Colab\"/></a>"
      ]
    },
    {
      "cell_type": "code",
      "metadata": {
        "colab": {
          "base_uri": "https://localhost:8080/"
        },
        "id": "lqEuwACe-clY",
        "outputId": "8383f77a-2714-441c-e2e0-b3793201ac70"
      },
      "source": [
        "\r\n",
        "from google.colab import drive\r\n",
        "drive.mount('/content/drive')"
      ],
      "execution_count": 1,
      "outputs": [
        {
          "output_type": "stream",
          "text": [
            "Mounted at /content/drive\n"
          ],
          "name": "stdout"
        }
      ]
    },
    {
      "cell_type": "code",
      "metadata": {
        "id": "NiJrIQM5-h03"
      },
      "source": [
        "from zipfile import ZipFile\r\n",
        "with ZipFile('/content/drive/MyDrive/LFW_VERIFIED0128/batch020_verified.zip', 'r') as zipObj:\r\n",
        "   # Extract all the contents of zip file in different directory\r\n",
        "   zipObj.extractall('/')"
      ],
      "execution_count": 50,
      "outputs": []
    },
    {
      "cell_type": "code",
      "metadata": {
        "id": "Za_0-dlN_F3T"
      },
      "source": [
        "from zipfile import ZipFile\r\n",
        "with ZipFile('/content/drive/MyDrive/LFW_one1.zip', 'r') as zipObj:\r\n",
        "   # Extract all the contents of zip file in different directory\r\n",
        "   zipObj.extractall('/content/drive/MyDrive/AGU0303/agumented2')"
      ],
      "execution_count": 70,
      "outputs": []
    },
    {
      "cell_type": "code",
      "metadata": {
        "colab": {
          "base_uri": "https://localhost:8080/"
        },
        "id": "6lYL0gs-_Ing",
        "outputId": "2b129f6f-7f71-4f35-da3a-dc8ea02ec14f"
      },
      "source": [
        "import os\r\n",
        "\r\n",
        "srcPath=\"/content/batch002_verified/\"\r\n",
        "dstPath =  \"/content/drive/MyDrive/AGU0303/agumented2/content/LFW_one1/\"\r\n",
        "def copyfile(srcPath,dstPath):\r\n",
        "   \r\n",
        "    \r\n",
        "    for name_file in os.listdir(dstPath):\r\n",
        "      keyword=name_file\r\n",
        "      #print(keyword)\r\n",
        "      for name_file1 in os.listdir(srcPath):\r\n",
        "        if keyword in name_file1:\r\n",
        "          #print(keyword)\r\n",
        "          count=0\r\n",
        "          count2 = 200\r\n",
        "          for file in sorted(os.listdir(srcPath+name_file1)):\r\n",
        "            print(file)\r\n",
        "            path = os.path.join(srcPath+str(name_file1)+'/'+file)\r\n",
        "            with open(path, 'rb') as rstream:\r\n",
        "              container = rstream.read()\r\n",
        "              path2 = os.path.join(dstPath+str(name_file)+'/'+ str(name_file)+'_0%3d'%(count2)+'_0.png')\r\n",
        "              \r\n",
        "              if count <1:\r\n",
        "                with open(path2, 'wb') as wstream:\r\n",
        "                  wstream.write(container)\r\n",
        "                  print(path2)\r\n",
        "                  count2+=1\r\n",
        "                  count+=1\r\n",
        "copyfile(srcPath,dstPath)"
      ],
      "execution_count": 69,
      "outputs": [
        {
          "output_type": "stream",
          "text": [
            "1.1621561\n",
            "/content/drive/MyDrive/AGU0303/agumented1/content/LFW_one1/Jeb_Bush/Jeb_Bush_0200_0.png\n",
            "1.1835328\n",
            "1.1842924\n",
            "1.1971811\n",
            "0.0\n",
            "/content/drive/MyDrive/AGU0303/agumented1/content/LFW_one1/James_Blake/James_Blake_0200_0.png\n",
            "1.0670942\n",
            "/content/drive/MyDrive/AGU0303/agumented1/content/LFW_one1/Matthew_Broderick/Matthew_Broderick_0200_0.png\n",
            "1.0783002\n",
            "1.0899035\n",
            "1.111669\n",
            "1.1313492\n",
            "1.1506447\n",
            "/content/drive/MyDrive/AGU0303/agumented1/content/LFW_one1/Matthew_Perry/Matthew_Perry_0200_0.png\n",
            "1.1745627\n",
            "1.1864681\n",
            "0.0\n",
            "/content/drive/MyDrive/AGU0303/agumented1/content/LFW_one1/Cruz_Bustamante/Cruz_Bustamante_0200_0.png\n",
            "1.018794\n",
            "/content/drive/MyDrive/AGU0303/agumented1/content/LFW_one1/William_Bratton/William_Bratton_0200_0.png\n",
            "1.0286545\n",
            "1.0371195\n",
            "1.0921913\n",
            "/content/drive/MyDrive/AGU0303/agumented1/content/LFW_one1/Susilo_Bambang_Yudhoyono/Susilo_Bambang_Yudhoyono_0200_0.png\n",
            "1.1422348\n",
            "1.1541464\n",
            "/content/drive/MyDrive/AGU0303/agumented1/content/LFW_one1/William_Hochul/William_Hochul_0200_0.png\n",
            "1.174032\n",
            "1.1838874\n",
            "1.1852914\n",
            "1.1879727\n",
            "1.1916281\n",
            "1.0645273\n",
            "/content/drive/MyDrive/AGU0303/agumented1/content/LFW_one1/Isaiah_Washington/Isaiah_Washington_0200_0.png\n",
            "1.0788555\n",
            "1.082304\n",
            "1.1999338\n",
            "1.0123434\n",
            "/content/drive/MyDrive/AGU0303/agumented1/content/LFW_one1/Mike_Brey/Mike_Brey_0200_0.png\n",
            "1.0330471\n",
            "1.0351901\n",
            "1.0409927\n",
            "1.1219068\n",
            "1.157298\n",
            "1.1607934\n",
            "1.1700813\n",
            "1.1820246\n",
            "/content/drive/MyDrive/AGU0303/agumented1/content/LFW_one1/Tom_Crean/Tom_Crean_0200_0.png\n",
            "1.1858575\n",
            "1.1881186\n",
            "0.96180886\n",
            "/content/drive/MyDrive/AGU0303/agumented1/content/LFW_one1/Gwendal_Peizerat/Gwendal_Peizerat_0200_0.png\n",
            "0.9844793\n",
            "1.0319294\n",
            "0.0\n",
            "/content/drive/MyDrive/AGU0303/agumented1/content/LFW_one1/Stan_Heath/Stan_Heath_0200_0.png\n",
            "0.0\n",
            "/content/drive/MyDrive/AGU0303/agumented1/content/LFW_one1/Abid_Hamid_Mahmud_Al-Tikriti/Abid_Hamid_Mahmud_Al-Tikriti_0200_0.png\n",
            "0.0\n",
            "/content/drive/MyDrive/AGU0303/agumented1/content/LFW_one1/Padraig_Harrington/Padraig_Harrington_0200_0.png\n",
            "0.9154196\n",
            "/content/drive/MyDrive/AGU0303/agumented1/content/LFW_one1/Ray_Nagin/Ray_Nagin_0200_0.png\n",
            "0.9389492\n",
            "0.94025046\n",
            "0.99599636\n",
            "1.047527\n",
            "1.1007477\n",
            "1.1746327\n",
            "0.93562526\n",
            "/content/drive/MyDrive/AGU0303/agumented1/content/LFW_one1/Ashanti/Ashanti_0200_0.png\n",
            "0.94906\n",
            "0.9811852\n",
            "1.0397512\n",
            "1.0786566\n",
            "1.1159371\n",
            "1.1198064\n",
            "1.1438895\n",
            "1.1544423\n",
            "0.0\n",
            "/content/drive/MyDrive/AGU0303/agumented1/content/LFW_one1/Martha_Stewart/Martha_Stewart_0200_0.png\n",
            "1.0467341\n",
            "/content/drive/MyDrive/AGU0303/agumented1/content/LFW_one1/Goldie_Hawn/Goldie_Hawn_0200_0.png\n",
            "1.1421735\n",
            "1.1502098\n",
            "0.0\n",
            "/content/drive/MyDrive/AGU0303/agumented1/content/LFW_one1/Carlos_Beltran/Carlos_Beltran_0200_0.png\n",
            "1.1969079\n",
            "/content/drive/MyDrive/AGU0303/agumented1/content/LFW_one1/Klaus_Zwickel/Klaus_Zwickel_0200_0.png\n"
          ],
          "name": "stdout"
        }
      ]
    }
  ]
}